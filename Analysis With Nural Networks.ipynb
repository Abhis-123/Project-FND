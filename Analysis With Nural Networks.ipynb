{
 "cells": [
  {
   "cell_type": "code",
   "execution_count": 1,
   "metadata": {
    "_cell_guid": "eeac944f-529f-464f-80b2-df6dda594aa5",
    "_uuid": "35c99fa7-62ae-42b2-917f-f0b346e33159",
    "jupyter": {
     "outputs_hidden": false
    }
   },
   "outputs": [],
   "source": [
    "\n",
    "import numpy as np # linear algebra\n",
    "import pandas as pd # data processing, CSV file I/O (e.g. pd.read_csv)\n",
    "import os"
   ]
  },
  {
   "cell_type": "code",
   "execution_count": 3,
   "metadata": {
    "_cell_guid": "b7f1bba8-b8ed-41af-91dd-9ddc47c03dd7",
    "_uuid": "2fba2143-8e1f-426c-a033-d5fa7b2f513b",
    "jupyter": {
     "outputs_hidden": false
    }
   },
   "outputs": [],
   "source": [
    "train = pd.read_csv(\"./datasets/train.csv\")\n",
    "test  = pd.read_csv(\"./datasets/test.csv\")"
   ]
  },
  {
   "cell_type": "code",
   "execution_count": 4,
   "metadata": {
    "_cell_guid": "26ea000a-1cdf-45a9-95ee-0bed1081bb7d",
    "_uuid": "f6662e6e-2538-4eb3-84cb-7c3089e02768",
    "jupyter": {
     "outputs_hidden": false
    }
   },
   "outputs": [
    {
     "data": {
      "text/html": [
       "<div>\n",
       "<style scoped>\n",
       "    .dataframe tbody tr th:only-of-type {\n",
       "        vertical-align: middle;\n",
       "    }\n",
       "\n",
       "    .dataframe tbody tr th {\n",
       "        vertical-align: top;\n",
       "    }\n",
       "\n",
       "    .dataframe thead th {\n",
       "        text-align: right;\n",
       "    }\n",
       "</style>\n",
       "<table border=\"1\" class=\"dataframe\">\n",
       "  <thead>\n",
       "    <tr style=\"text-align: right;\">\n",
       "      <th></th>\n",
       "      <th>id</th>\n",
       "      <th>title</th>\n",
       "      <th>author</th>\n",
       "      <th>text</th>\n",
       "      <th>label</th>\n",
       "    </tr>\n",
       "  </thead>\n",
       "  <tbody>\n",
       "    <tr>\n",
       "      <th>0</th>\n",
       "      <td>0</td>\n",
       "      <td>House Dem Aide: We Didn’t Even See Comey’s Let...</td>\n",
       "      <td>Darrell Lucus</td>\n",
       "      <td>House Dem Aide: We Didn’t Even See Comey’s Let...</td>\n",
       "      <td>1</td>\n",
       "    </tr>\n",
       "    <tr>\n",
       "      <th>1</th>\n",
       "      <td>1</td>\n",
       "      <td>FLYNN: Hillary Clinton, Big Woman on Campus - ...</td>\n",
       "      <td>Daniel J. Flynn</td>\n",
       "      <td>Ever get the feeling your life circles the rou...</td>\n",
       "      <td>0</td>\n",
       "    </tr>\n",
       "    <tr>\n",
       "      <th>2</th>\n",
       "      <td>2</td>\n",
       "      <td>Why the Truth Might Get You Fired</td>\n",
       "      <td>Consortiumnews.com</td>\n",
       "      <td>Why the Truth Might Get You Fired October 29, ...</td>\n",
       "      <td>1</td>\n",
       "    </tr>\n",
       "    <tr>\n",
       "      <th>3</th>\n",
       "      <td>3</td>\n",
       "      <td>15 Civilians Killed In Single US Airstrike Hav...</td>\n",
       "      <td>Jessica Purkiss</td>\n",
       "      <td>Videos 15 Civilians Killed In Single US Airstr...</td>\n",
       "      <td>1</td>\n",
       "    </tr>\n",
       "    <tr>\n",
       "      <th>4</th>\n",
       "      <td>4</td>\n",
       "      <td>Iranian woman jailed for fictional unpublished...</td>\n",
       "      <td>Howard Portnoy</td>\n",
       "      <td>Print \\nAn Iranian woman has been sentenced to...</td>\n",
       "      <td>1</td>\n",
       "    </tr>\n",
       "  </tbody>\n",
       "</table>\n",
       "</div>"
      ],
      "text/plain": [
       "   id                                              title              author  \\\n",
       "0   0  House Dem Aide: We Didn’t Even See Comey’s Let...       Darrell Lucus   \n",
       "1   1  FLYNN: Hillary Clinton, Big Woman on Campus - ...     Daniel J. Flynn   \n",
       "2   2                  Why the Truth Might Get You Fired  Consortiumnews.com   \n",
       "3   3  15 Civilians Killed In Single US Airstrike Hav...     Jessica Purkiss   \n",
       "4   4  Iranian woman jailed for fictional unpublished...      Howard Portnoy   \n",
       "\n",
       "                                                text  label  \n",
       "0  House Dem Aide: We Didn’t Even See Comey’s Let...      1  \n",
       "1  Ever get the feeling your life circles the rou...      0  \n",
       "2  Why the Truth Might Get You Fired October 29, ...      1  \n",
       "3  Videos 15 Civilians Killed In Single US Airstr...      1  \n",
       "4  Print \\nAn Iranian woman has been sentenced to...      1  "
      ]
     },
     "execution_count": 4,
     "metadata": {},
     "output_type": "execute_result"
    }
   ],
   "source": [
    "train.head(5)"
   ]
  },
  {
   "cell_type": "code",
   "execution_count": 5,
   "metadata": {
    "_cell_guid": "7be0fc10-36e7-45b9-ba04-d89f00972edc",
    "_uuid": "6decbbb7-8a7e-4361-aa59-36de6c96d801",
    "jupyter": {
     "outputs_hidden": false
    }
   },
   "outputs": [
    {
     "name": "stdout",
     "output_type": "stream",
     "text": [
      " number of data points in train set 20800\n",
      " number of data points in test set 5200\n"
     ]
    }
   ],
   "source": [
    "print(f\" number of data points in train set {train.__len__()}\")\n",
    "print(f\" number of data points in test set {test.__len__()}\")"
   ]
  },
  {
   "cell_type": "code",
   "execution_count": 6,
   "metadata": {
    "_cell_guid": "c6de7821-833f-44aa-bc94-0193a8a79f27",
    "_uuid": "66eebcdc-7ff9-44f8-9a0d-28d7db77bf70",
    "jupyter": {
     "outputs_hidden": false
    }
   },
   "outputs": [
    {
     "name": "stdout",
     "output_type": "stream",
     "text": [
      "<class 'pandas.core.frame.DataFrame'>\n",
      "RangeIndex: 20800 entries, 0 to 20799\n",
      "Data columns (total 5 columns):\n",
      " #   Column  Non-Null Count  Dtype \n",
      "---  ------  --------------  ----- \n",
      " 0   id      20800 non-null  int64 \n",
      " 1   title   20242 non-null  object\n",
      " 2   author  18843 non-null  object\n",
      " 3   text    20761 non-null  object\n",
      " 4   label   20800 non-null  int64 \n",
      "dtypes: int64(2), object(3)\n",
      "memory usage: 812.6+ KB\n",
      "<class 'pandas.core.frame.DataFrame'>\n",
      "RangeIndex: 5200 entries, 0 to 5199\n",
      "Data columns (total 4 columns):\n",
      " #   Column  Non-Null Count  Dtype \n",
      "---  ------  --------------  ----- \n",
      " 0   id      5200 non-null   int64 \n",
      " 1   title   5078 non-null   object\n",
      " 2   author  4697 non-null   object\n",
      " 3   text    5193 non-null   object\n",
      "dtypes: int64(1), object(3)\n",
      "memory usage: 162.6+ KB\n"
     ]
    },
    {
     "data": {
      "text/plain": [
       "(None, None)"
      ]
     },
     "execution_count": 6,
     "metadata": {},
     "output_type": "execute_result"
    }
   ],
   "source": [
    "train.info(),test.info()"
   ]
  },
  {
   "cell_type": "code",
   "execution_count": 7,
   "metadata": {
    "_cell_guid": "fa7d8dfe-435c-41ec-b0ae-d5a0496d9a0d",
    "_uuid": "32049cd2-629e-4d53-8f56-2436f907d717",
    "jupyter": {
     "outputs_hidden": false
    }
   },
   "outputs": [
    {
     "name": "stdout",
     "output_type": "stream",
     "text": [
      " total number of fake news 10387 in train data set\n",
      " total number of real news 10413 in train data set\n"
     ]
    }
   ],
   "source": [
    "print(f\" total number of fake news {train[train['label']==0].__len__()} in train data set\")\n",
    "print(f\" total number of real news {train[train['label']==1].__len__()} in train data set\")"
   ]
  },
  {
   "cell_type": "code",
   "execution_count": 8,
   "metadata": {
    "_cell_guid": "2944e485-13c6-4158-9591-e00fc6affde8",
    "_uuid": "e894aa2c-0541-4275-96ab-1e04825e3d47",
    "jupyter": {
     "outputs_hidden": false
    }
   },
   "outputs": [],
   "source": [
    "# drop all null values\n",
    "train= train.dropna()"
   ]
  },
  {
   "cell_type": "code",
   "execution_count": 9,
   "metadata": {
    "_cell_guid": "e0d33deb-059e-4223-a083-20d02b96a780",
    "_uuid": "d901e4e5-99c1-4e73-a6df-cba7eeed0683",
    "jupyter": {
     "outputs_hidden": false
    }
   },
   "outputs": [
    {
     "name": "stdout",
     "output_type": "stream",
     "text": [
      "number of data points in train set 18285\n"
     ]
    }
   ],
   "source": [
    "print(f\"number of data points in train set {train.__len__()}\")"
   ]
  },
  {
   "cell_type": "code",
   "execution_count": 10,
   "metadata": {
    "_cell_guid": "2a457ec7-939c-4491-b6aa-f6cc5b9f90fa",
    "_uuid": "112a73f6-84be-41fc-8030-4ba7b88966bd",
    "jupyter": {
     "outputs_hidden": false
    }
   },
   "outputs": [],
   "source": [
    "## cleaning text \n",
    "import nltk ,re\n",
    "from nltk.corpus import stopwords\n",
    "from nltk.stem.porter import PorterStemmer\n",
    "import string \n",
    "from nltk.stem import WordNetLemmatizer"
   ]
  },
  {
   "cell_type": "code",
   "execution_count": 11,
   "metadata": {
    "_cell_guid": "42ccf530-f68e-4530-8ee0-2b18c37cd4e8",
    "_uuid": "f7315ead-0e53-40b0-ae93-955f32c168fe",
    "jupyter": {
     "outputs_hidden": false
    }
   },
   "outputs": [
    {
     "name": "stderr",
     "output_type": "stream",
     "text": [
      "[nltk_data] Downloading package wordnet to C:\\Users\\Abhishek\n",
      "[nltk_data]     pandir\\AppData\\Roaming\\nltk_data...\n",
      "[nltk_data]   Package wordnet is already up-to-date!\n",
      "[nltk_data] Downloading package stopwords to C:\\Users\\Abhishek\n",
      "[nltk_data]     pandir\\AppData\\Roaming\\nltk_data...\n",
      "[nltk_data]   Package stopwords is already up-to-date!\n"
     ]
    },
    {
     "data": {
      "text/plain": [
       "True"
      ]
     },
     "execution_count": 11,
     "metadata": {},
     "output_type": "execute_result"
    }
   ],
   "source": [
    "#defining the object for Lemmatization\n",
    "nltk.download('wordnet')\n",
    "nltk.download('stopwords')"
   ]
  },
  {
   "cell_type": "code",
   "execution_count": 12,
   "metadata": {
    "_cell_guid": "ccd4a356-0e28-4dd1-b3d9-9faee169e296",
    "_uuid": "2caf1efd-9ae8-4115-91dd-f2829944e958",
    "jupyter": {
     "outputs_hidden": false
    }
   },
   "outputs": [],
   "source": [
    "wordnet_lemmatizer = WordNetLemmatizer()"
   ]
  },
  {
   "cell_type": "code",
   "execution_count": 13,
   "metadata": {
    "_cell_guid": "d80d41d8-42dd-48e3-874b-a5764eab3468",
    "_uuid": "c724700c-bf30-42b4-aac3-4a4913e83a62",
    "jupyter": {
     "outputs_hidden": false
    }
   },
   "outputs": [],
   "source": [
    "stopwords=stopwords.words('english')"
   ]
  },
  {
   "cell_type": "code",
   "execution_count": 14,
   "metadata": {
    "_cell_guid": "93deca94-6fe0-40fa-a60f-b67bdc33cd25",
    "_uuid": "03dfc98c-e33e-467d-9898-684cff067b77",
    "jupyter": {
     "outputs_hidden": false
    }
   },
   "outputs": [],
   "source": [
    "stemmer=PorterStemmer()\n",
    "# clean unwanted text like stopwords, @(Mention), https(url), #(Hashtag), punctuations\n",
    "def removeUnwantedText(text):\n",
    "    #remove urls\n",
    "    if text == np.NaN or type(text) != str:\n",
    "      text = \" \"\n",
    "    text = re.sub(r'http\\S+', \" \", text)\n",
    "    text = re.sub(r'@\\w+',' ',text)\n",
    "    text = re.sub(r'#\\w+', ' ', text)\n",
    "    text = re.sub('r<.*?>',' ', text)\n",
    "    # html tags\n",
    "    text = text.lower()\n",
    "    text = text.split()\n",
    "    text = \" \".join([word for word in text if not word in stopwords])\n",
    "    for punctuation in string.punctuation:\n",
    "        text = text.replace(punctuation, \"\")\n",
    "    return text"
   ]
  },
  {
   "cell_type": "code",
   "execution_count": 16,
   "metadata": {
    "_cell_guid": "957d095d-4cc5-40f2-883a-2e2696a12419",
    "_uuid": "89ba220b-7bc1-474d-ab28-44082ebb2844",
    "jupyter": {
     "outputs_hidden": false
    }
   },
   "outputs": [
    {
     "name": "stdout",
     "output_type": "stream",
     "text": [
      "8\n"
     ]
    }
   ],
   "source": [
    "\n",
    "# curruntly on gpu\n",
    "import multiprocessing as mp\n",
    "p = mp.Pool(mp.cpu_count()) # Data parallelism Object\n",
    "print(mp.cpu_count())"
   ]
  },
  {
   "cell_type": "code",
   "execution_count": 17,
   "metadata": {
    "_cell_guid": "d7f156eb-8712-4a16-830f-7641233bcfe0",
    "_uuid": "c854fb43-f140-45ad-bd3f-22fcbe822dde",
    "jupyter": {
     "outputs_hidden": false
    }
   },
   "outputs": [],
   "source": [
    "#train['title']= p.map(removeUnwantedText,train['title'])"
   ]
  },
  {
   "cell_type": "code",
   "execution_count": 18,
   "metadata": {
    "_cell_guid": "99021767-6a13-49ba-bde8-dc9a1264859e",
    "_uuid": "54e87743-820d-40fd-97c8-09b09340d8ab",
    "jupyter": {
     "outputs_hidden": false
    }
   },
   "outputs": [
    {
     "data": {
      "text/plain": [
       "51"
      ]
     },
     "execution_count": 18,
     "metadata": {},
     "output_type": "execute_result"
    }
   ],
   "source": [
    "train['title']=train['title'].apply(removeUnwantedText)\n",
    "max(train['title'].apply( lambda x : len(x.split(\" \"))))"
   ]
  },
  {
   "cell_type": "code",
   "execution_count": 19,
   "metadata": {
    "_cell_guid": "c1ff8b32-d021-49a8-b5d4-9a5107245663",
    "_uuid": "65dc83ae-cbae-4f2c-b1b2-59ee7d569301",
    "jupyter": {
     "outputs_hidden": false
    }
   },
   "outputs": [],
   "source": [
    "# calculating number of unique words"
   ]
  },
  {
   "cell_type": "code",
   "execution_count": 20,
   "metadata": {},
   "outputs": [],
   "source": [
    "def lemmatize_text(text):\n",
    "    text= text.lower()\n",
    "    text= text.split(\" \")\n",
    "    text = \" \".join([wordnet_lemmatizer.lemmatize(word) for word in text])\n",
    "    return text"
   ]
  },
  {
   "cell_type": "code",
   "execution_count": 21,
   "metadata": {},
   "outputs": [
    {
     "data": {
      "text/plain": [
       "'flynn hillary clinton big woman campus  breitbart'"
      ]
     },
     "execution_count": 21,
     "metadata": {},
     "output_type": "execute_result"
    }
   ],
   "source": [
    "lemmatize_text(train['title'][1])"
   ]
  },
  {
   "cell_type": "code",
   "execution_count": 22,
   "metadata": {},
   "outputs": [],
   "source": [
    "train['title']=train['title'].apply(lemmatize_text)"
   ]
  },
  {
   "cell_type": "code",
   "execution_count": 23,
   "metadata": {},
   "outputs": [
    {
     "data": {
      "text/plain": [
       "51"
      ]
     },
     "execution_count": 23,
     "metadata": {},
     "output_type": "execute_result"
    }
   ],
   "source": [
    "max(train['title'].apply( lambda x : len(x.split(\" \"))))"
   ]
  },
  {
   "cell_type": "code",
   "execution_count": 24,
   "metadata": {},
   "outputs": [
    {
     "name": "stdout",
     "output_type": "stream",
     "text": [
      " total number of unique words in  the all titles are 24578\n"
     ]
    }
   ],
   "source": [
    "x = set()\n",
    "for i in train['title']:\n",
    "    for j in i.split(\" \"):\n",
    "        x.add(wordnet_lemmatizer.lemmatize(j))\n",
    "print(f\" total number of unique words in  the all titles are {len(x)}\")"
   ]
  },
  {
   "cell_type": "code",
   "execution_count": 25,
   "metadata": {
    "_cell_guid": "d46335a5-ccc7-45ae-b2ae-836f70a7f7fc",
    "_uuid": "24acf0c1-f555-4542-89ed-e5d8e0edb6e1",
    "jupyter": {
     "outputs_hidden": false
    }
   },
   "outputs": [],
   "source": [
    "import tensorflow as tf\n",
    "import tensorflow.keras as keras\n",
    "from tensorflow.keras import layers\n",
    "from tensorflow.keras.preprocessing import sequence\n",
    "from tensorflow.keras.preprocessing import text\n",
    "from tensorflow.keras import Sequential\n",
    "from sklearn.model_selection import train_test_split"
   ]
  },
  {
   "cell_type": "code",
   "execution_count": 26,
   "metadata": {
    "_cell_guid": "ab1347e6-2261-4791-99d5-f510f012e37b",
    "_uuid": "523f863a-d716-468a-bb70-76f63dba6500",
    "jupyter": {
     "outputs_hidden": false
    }
   },
   "outputs": [],
   "source": [
    "tokenizer = text.Tokenizer(num_words=25000)\n",
    "tokenizer.fit_on_texts(train[\"title\"])\n",
    "def prep_text(texts, tokenizer, max_sequence_length):\n",
    "    # Turns text into into padded sequences.\n",
    "    text_sequences = tokenizer.texts_to_sequences(texts)\n",
    "    return sequence.pad_sequences(text_sequences, maxlen=max_sequence_length)"
   ]
  },
  {
   "cell_type": "code",
   "execution_count": 27,
   "metadata": {
    "_cell_guid": "13542072-f811-4333-a732-e310dc80bb86",
    "_uuid": "595aa940-5763-4eaa-8bb8-c84650b0055a",
    "jupyter": {
     "outputs_hidden": false
    }
   },
   "outputs": [],
   "source": [
    "# max sequence length 64\n",
    "MAX_SEQ_LENGTH=64\n",
    "## coverting to matrix \n",
    "x= prep_text(train['title'],tokenizer,MAX_SEQ_LENGTH)\n",
    "x= np.array(x)\n",
    "y =np.array(train['label'])\n",
    "X_train, X_test, y_train, y_test = train_test_split(x, y, test_size=0.30, random_state=4)"
   ]
  },
  {
   "cell_type": "code",
   "execution_count": 28,
   "metadata": {},
   "outputs": [
    {
     "data": {
      "text/plain": [
       "array([    0,     0,     0,     0,     0,     0,     0,     0,     0,\n",
       "           0,     0,     0,     0,     0,     0,     0,     0,     0,\n",
       "           0,     0,     0,     0,     0,     0,     0,     0,     0,\n",
       "           0,     0,     0,     0,     0,     0,     0,     0,     0,\n",
       "           0,     0,     0,     0,     0,     0,     0,     0,     0,\n",
       "           0,     0,     0,     0,     0,     0,     0,     0,    48,\n",
       "        2209,  2420,   189,  1201,   199,   921, 10790, 10791,  3580,\n",
       "         250])"
      ]
     },
     "execution_count": 28,
     "metadata": {},
     "output_type": "execute_result"
    }
   ],
   "source": [
    "x[10]"
   ]
  },
  {
   "cell_type": "code",
   "execution_count": 29,
   "metadata": {
    "_cell_guid": "23b8641b-a8b1-4ad2-b5ad-b11dd855bcad",
    "_uuid": "9370a053-f0b4-468f-ad80-81cd52fae05c",
    "jupyter": {
     "outputs_hidden": false
    }
   },
   "outputs": [
    {
     "name": "stdout",
     "output_type": "stream",
     "text": [
      "Model: \"sequential\"\n",
      "_________________________________________________________________\n",
      "Layer (type)                 Output Shape              Param #   \n",
      "=================================================================\n",
      "embedding (Embedding)        (None, 64, 64)            1600128   \n",
      "_________________________________________________________________\n",
      "bidirectional (Bidirectional (None, 64, 128)           66048     \n",
      "_________________________________________________________________\n",
      "bidirectional_1 (Bidirection (None, 64)                41216     \n",
      "_________________________________________________________________\n",
      "dense (Dense)                (None, 64)                4160      \n",
      "_________________________________________________________________\n",
      "dense_1 (Dense)              (None, 64)                4160      \n",
      "_________________________________________________________________\n",
      "dropout (Dropout)            (None, 64)                0         \n",
      "_________________________________________________________________\n",
      "dense_2 (Dense)              (None, 1)                 65        \n",
      "=================================================================\n",
      "Total params: 1,715,777\n",
      "Trainable params: 1,715,777\n",
      "Non-trainable params: 0\n",
      "_________________________________________________________________\n"
     ]
    }
   ],
   "source": [
    "model = tf.keras.Sequential([\n",
    "    tf.keras.layers.Embedding(25000+2, 64, mask_zero=True,input_length=64),\n",
    "    tf.keras.layers.Bidirectional(tf.keras.layers.LSTM(64,  return_sequences=True)),\n",
    "    tf.keras.layers.Bidirectional(tf.keras.layers.LSTM(32)),\n",
    "    tf.keras.layers.Dense(64, activation='relu',input_shape=(64,)),\n",
    "    tf.keras.layers.Dense(64,activation='relu'),\n",
    "    tf.keras.layers.Dropout(0.5),\n",
    "    tf.keras.layers.Dense(1,activation='sigmoid')\n",
    "])\n",
    "model.summary()"
   ]
  },
  {
   "cell_type": "code",
   "execution_count": 30,
   "metadata": {
    "_cell_guid": "4a895558-ffbb-40f8-af89-ed7a075f37cb",
    "_uuid": "f940b8af-fded-44b5-ab72-f5b6035d9836",
    "jupyter": {
     "outputs_hidden": false
    }
   },
   "outputs": [],
   "source": [
    "from IPython.display import clear_output\n",
    "class DisplayCallback(tf.keras.callbacks.Callback):\n",
    "  def on_epoch_end(self, epoch, logs=None):\n",
    "    clear_output(wait=True)\n",
    "    \n",
    "model.compile(loss=tf.keras.losses.BinaryCrossentropy(),\n",
    "              optimizer=tf.keras.optimizers.Adam(1e-4),\n",
    "              metrics=['accuracy'])"
   ]
  },
  {
   "cell_type": "code",
   "execution_count": 32,
   "metadata": {
    "_cell_guid": "924c3d38-33f8-4bb3-9056-fd9f76dd3924",
    "_uuid": "07291a46-6048-491e-ab9d-701c51029e6d",
    "jupyter": {
     "outputs_hidden": false
    },
    "scrolled": true
   },
   "outputs": [
    {
     "name": "stdout",
     "output_type": "stream",
     "text": [
      "Epoch 1/5\n",
      "200/200 [==============================] - 188s 938ms/step - loss: 0.3949 - accuracy: 0.8256 - val_loss: 0.2501 - val_accuracy: 0.9059\n",
      "Epoch 2/5\n",
      "200/200 [==============================] - 192s 960ms/step - loss: 0.1817 - accuracy: 0.9423 - val_loss: 0.2019 - val_accuracy: 0.9258\n",
      "Epoch 3/5\n",
      "200/200 [==============================] - 189s 946ms/step - loss: 0.1023 - accuracy: 0.9716 - val_loss: 0.2086 - val_accuracy: 0.9275\n",
      "Epoch 4/5\n",
      "200/200 [==============================] - 196s 981ms/step - loss: 0.0568 - accuracy: 0.9877 - val_loss: 0.2600 - val_accuracy: 0.9287\n",
      "Epoch 5/5\n",
      "200/200 [==============================] - 197s 986ms/step - loss: 0.0306 - accuracy: 0.9945 - val_loss: 0.3115 - val_accuracy: 0.9295\n"
     ]
    }
   ],
   "source": [
    "history = model.fit(X_train,y_train,epochs=5,validation_data=(X_test,y_test),batch_size=64)"
   ]
  },
  {
   "cell_type": "code",
   "execution_count": null,
   "metadata": {
    "_cell_guid": "311b2116-68a6-4743-a6ec-e37587509072",
    "_uuid": "31cef453-99cd-4ad6-8f81-219d023b1f8a",
    "jupyter": {
     "outputs_hidden": false
    }
   },
   "outputs": [
    {
     "name": "stdout",
     "output_type": "stream",
     "text": [
      "WARNING:tensorflow:From C:\\Users\\Abhishek pandir\\AppData\\Roaming\\Python\\Python37\\site-packages\\tensorflow\\python\\training\\tracking\\tracking.py:111: Model.state_updates (from tensorflow.python.keras.engine.training) is deprecated and will be removed in a future version.\n",
      "Instructions for updating:\n",
      "This property should not be used in TensorFlow 2.0, as updates are applied automatically.\n",
      "WARNING:tensorflow:From C:\\Users\\Abhishek pandir\\AppData\\Roaming\\Python\\Python37\\site-packages\\tensorflow\\python\\training\\tracking\\tracking.py:111: Layer.updates (from tensorflow.python.keras.engine.base_layer) is deprecated and will be removed in a future version.\n",
      "Instructions for updating:\n",
      "This property should not be used in TensorFlow 2.0, as updates are applied automatically.\n"
     ]
    }
   ],
   "source": [
    "model.save(\"./models/linear\")"
   ]
  },
  {
   "cell_type": "code",
   "execution_count": null,
   "metadata": {
    "_cell_guid": "82466506-e44b-4297-a49f-ea145e7f1a81",
    "_uuid": "a569e082-986e-49ab-bd28-147ba4e69940",
    "execution": {
     "iopub.execute_input": "2021-09-03T14:56:09.184839Z",
     "iopub.status.busy": "2021-09-03T14:56:09.184505Z",
     "iopub.status.idle": "2021-09-03T14:56:40.147883Z",
     "shell.execute_reply": "2021-09-03T14:56:40.147003Z",
     "shell.execute_reply.started": "2021-09-03T14:56:09.184807Z"
    },
    "jupyter": {
     "outputs_hidden": false
    }
   },
   "outputs": [],
   "source": [
    "train['text']=train['text'].apply(removeUnwantedText)\n",
    "print(max(train['text'].apply( lambda x : len(x.split(\" \")))))"
   ]
  },
  {
   "cell_type": "code",
   "execution_count": null,
   "metadata": {
    "_cell_guid": "2db532bb-99d9-48ff-8008-f5e5ef1fc4f9",
    "_uuid": "24a61efc-e458-4e13-bcc0-6176155c1938",
    "execution": {
     "iopub.execute_input": "2021-09-03T14:56:40.149759Z",
     "iopub.status.busy": "2021-09-03T14:56:40.149389Z",
     "iopub.status.idle": "2021-09-03T14:56:40.853007Z",
     "shell.execute_reply": "2021-09-03T14:56:40.852201Z",
     "shell.execute_reply.started": "2021-09-03T14:56:40.149722Z"
    },
    "jupyter": {
     "outputs_hidden": false
    }
   },
   "outputs": [],
   "source": [
    "train['text'].apply( lambda x : len(x.split(\" \"))).quantile(0.95)"
   ]
  },
  {
   "cell_type": "code",
   "execution_count": null,
   "metadata": {
    "_cell_guid": "2832e4b9-ffd1-4322-8b3c-5bf06073a77e",
    "_uuid": "96cda338-47be-48ff-b09c-f21fdf900c63",
    "execution": {
     "iopub.execute_input": "2021-09-03T14:56:40.85923Z",
     "iopub.status.busy": "2021-09-03T14:56:40.85728Z",
     "iopub.status.idle": "2021-09-03T14:56:41.95794Z",
     "shell.execute_reply": "2021-09-03T14:56:41.957097Z",
     "shell.execute_reply.started": "2021-09-03T14:56:40.859191Z"
    },
    "jupyter": {
     "outputs_hidden": false
    }
   },
   "outputs": [],
   "source": [
    "cuttoff=train['text'].apply( lambda x : len(x.split(\" \"))).quantile(0.95)\n",
    "text_data=train[train['text'].apply( lambda x : len(x.split(\" \")))<cuttoff]"
   ]
  },
  {
   "cell_type": "code",
   "execution_count": null,
   "metadata": {
    "_cell_guid": "c83d3d6d-2144-4995-86cd-e9a199e1fa73",
    "_uuid": "2d76da2d-64c1-46db-b7ce-791285fc6470",
    "execution": {
     "iopub.execute_input": "2021-09-03T14:56:41.959957Z",
     "iopub.status.busy": "2021-09-03T14:56:41.959613Z",
     "iopub.status.idle": "2021-09-03T14:57:17.335117Z",
     "shell.execute_reply": "2021-09-03T14:57:17.333639Z",
     "shell.execute_reply.started": "2021-09-03T14:56:41.959921Z"
    },
    "jupyter": {
     "outputs_hidden": false
    }
   },
   "outputs": [],
   "source": [
    "x = set()\n",
    "for i in text_data['text']:\n",
    "    for j in i.split(\" \"):\n",
    "        x.add(wordnet_lemmatizer.lemmatize(j))\n",
    "print(f\" total number of unique words in text the all corpus are {len(x)}\")"
   ]
  },
  {
   "cell_type": "code",
   "execution_count": null,
   "metadata": {
    "_cell_guid": "b556c66e-09e0-4f0f-9869-76db84aeae3e",
    "_uuid": "347003c7-29f2-49c6-953a-1d9038819125",
    "execution": {
     "iopub.execute_input": "2021-09-03T14:57:17.336653Z",
     "iopub.status.busy": "2021-09-03T14:57:17.336281Z",
     "iopub.status.idle": "2021-09-03T14:57:17.754556Z",
     "shell.execute_reply": "2021-09-03T14:57:17.75361Z",
     "shell.execute_reply.started": "2021-09-03T14:57:17.336625Z"
    },
    "jupyter": {
     "outputs_hidden": false
    }
   },
   "outputs": [],
   "source": [
    "max(text_data['text'].apply( lambda x : len(x.split(\" \"))))"
   ]
  },
  {
   "cell_type": "code",
   "execution_count": null,
   "metadata": {
    "_cell_guid": "00d36d20-e5e6-46cb-be8f-eb55940b7f2a",
    "_uuid": "fc7a60d6-31a8-4ddf-96b0-ef7cba5e4af1",
    "execution": {
     "iopub.execute_input": "2021-09-03T14:57:17.756313Z",
     "iopub.status.busy": "2021-09-03T14:57:17.755932Z",
     "iopub.status.idle": "2021-09-03T14:57:28.577251Z",
     "shell.execute_reply": "2021-09-03T14:57:28.576341Z",
     "shell.execute_reply.started": "2021-09-03T14:57:17.756274Z"
    },
    "jupyter": {
     "outputs_hidden": false
    }
   },
   "outputs": [],
   "source": [
    "tokenizer = text.Tokenizer(num_words=25000)\n",
    "tokenizer.fit_on_texts(text_data[\"text\"])"
   ]
  },
  {
   "cell_type": "code",
   "execution_count": null,
   "metadata": {
    "_cell_guid": "fa0a9be9-ffd0-4e46-b60a-be7a415cab3e",
    "_uuid": "7a9c8c6e-be9b-4797-8bdb-97e6e74f79be",
    "execution": {
     "iopub.execute_input": "2021-09-03T14:57:28.578858Z",
     "iopub.status.busy": "2021-09-03T14:57:28.578464Z",
     "iopub.status.idle": "2021-09-03T14:57:29.072824Z",
     "shell.execute_reply": "2021-09-03T14:57:29.071791Z",
     "shell.execute_reply.started": "2021-09-03T14:57:28.578821Z"
    },
    "jupyter": {
     "outputs_hidden": false
    }
   },
   "outputs": [],
   "source": [
    "# max sequence length 64\n",
    "MAX_SEQ_LENGTH=1152\n",
    "\n",
    "## coverting to matrix \n",
    "x= prep_text(train['title'],tokenizer,MAX_SEQ_LENGTH)\n",
    "x= np.array(x)\n",
    "y =np.array(train['label'])\n",
    "X_train, X_test, y_train, y_test = train_test_split(x, y, test_size=0.30, random_state=4)"
   ]
  },
  {
   "cell_type": "code",
   "execution_count": null,
   "metadata": {
    "_cell_guid": "38889f74-de96-4143-9268-683794cea0ec",
    "_uuid": "1ff6b080-d5d0-471e-9574-bcd5f13dfd8e",
    "execution": {
     "iopub.execute_input": "2021-09-03T15:04:06.200005Z",
     "iopub.status.busy": "2021-09-03T15:04:06.199656Z",
     "iopub.status.idle": "2021-09-03T15:04:06.20604Z",
     "shell.execute_reply": "2021-09-03T15:04:06.20511Z",
     "shell.execute_reply.started": "2021-09-03T15:04:06.199968Z"
    },
    "jupyter": {
     "outputs_hidden": false
    }
   },
   "outputs": [],
   "source": [
    "X_train.shape"
   ]
  },
  {
   "cell_type": "code",
   "execution_count": null,
   "metadata": {
    "_cell_guid": "6b467a2b-c76a-41de-a178-627072010557",
    "_uuid": "4d1cb714-9c0b-4fb9-84fd-9f4b8a29cce5",
    "execution": {
     "iopub.execute_input": "2021-09-03T15:44:31.767315Z",
     "iopub.status.busy": "2021-09-03T15:44:31.766858Z",
     "iopub.status.idle": "2021-09-03T15:44:33.351922Z",
     "shell.execute_reply": "2021-09-03T15:44:33.351048Z",
     "shell.execute_reply.started": "2021-09-03T15:44:31.767277Z"
    },
    "jupyter": {
     "outputs_hidden": false
    }
   },
   "outputs": [],
   "source": [
    "model = tf.keras.Sequential([\n",
    "    tf.keras.layers.Embedding(25000+2, 64, mask_zero=True,input_length=MAX_SEQ_LENGTH),\n",
    "    tf.keras.layers.Bidirectional(tf.keras.layers.LSTM(1152,  return_sequences=True)),\n",
    "    tf.keras.layers.Bidirectional(tf.keras.layers.LSTM(32)),\n",
    "#     tf.keras.layers.LSTM(256,return_sequences=True),\n",
    "#     tf.keras.layers.LSTM(256,return_sequences=False),\n",
    "    tf.keras.layers.Dense(64,activation='relu'),\n",
    "    tf.keras.layers.Dense(16,activation='relu'),\n",
    "    tf.keras.layers.Dense(1,activation='sigmoid')\n",
    "])\n",
    "model.summary()"
   ]
  },
  {
   "cell_type": "code",
   "execution_count": null,
   "metadata": {
    "_cell_guid": "1687e4df-5278-44c6-b31e-d04995baa8ce",
    "_uuid": "4895f9ed-989c-46fb-8deb-402729a388bc",
    "execution": {
     "iopub.execute_input": "2021-09-03T15:55:50.349387Z",
     "iopub.status.busy": "2021-09-03T15:55:50.349063Z",
     "iopub.status.idle": "2021-09-03T15:55:50.353951Z",
     "shell.execute_reply": "2021-09-03T15:55:50.352705Z",
     "shell.execute_reply.started": "2021-09-03T15:55:50.349358Z"
    },
    "jupyter": {
     "outputs_hidden": false
    }
   },
   "outputs": [],
   "source": [
    "num_epochs = 5\n",
    "lr=0.25\n",
    "decay=0.25"
   ]
  },
  {
   "cell_type": "code",
   "execution_count": null,
   "metadata": {
    "_cell_guid": "1937143a-2388-476a-b04f-6459776e8de9",
    "_uuid": "1f36379b-6fbf-4723-b3e5-d3095a00320a",
    "execution": {
     "iopub.execute_input": "2021-09-03T15:56:11.859856Z",
     "iopub.status.busy": "2021-09-03T15:56:11.859484Z",
     "iopub.status.idle": "2021-09-03T16:34:42.357876Z",
     "shell.execute_reply": "2021-09-03T16:34:42.356948Z",
     "shell.execute_reply.started": "2021-09-03T15:56:11.859824Z"
    },
    "jupyter": {
     "outputs_hidden": false
    }
   },
   "outputs": [],
   "source": [
    "for epoch in range(1,num_epochs):\n",
    "    model.compile(loss=tf.keras.losses.BinaryCrossentropy(),\n",
    "              optimizer=tf.keras.optimizers.Adam(lr*decay),\n",
    "              metrics=['accuracy']) \n",
    "    model.fit(X_train,y_train,epochs=1,validation_data=(X_test,y_test),batch_size=128)\n",
    "    model.save(f\"model_{epoch}.h5\")\n",
    "    lr=lr*decay"
   ]
  },
  {
   "cell_type": "code",
   "execution_count": null,
   "metadata": {
    "_cell_guid": "cfae5cc9-a9df-4d4c-8d2f-70dad683a6d4",
    "_uuid": "aa3ff138-c8a8-4fc4-b151-63dae0043444",
    "execution": {
     "iopub.execute_input": "2021-09-03T16:39:16.578747Z",
     "iopub.status.busy": "2021-09-03T16:39:16.578397Z",
     "iopub.status.idle": "2021-09-03T16:41:38.173684Z",
     "shell.execute_reply": "2021-09-03T16:41:38.172905Z",
     "shell.execute_reply.started": "2021-09-03T16:39:16.578714Z"
    },
    "jupyter": {
     "outputs_hidden": false
    }
   },
   "outputs": [],
   "source": [
    " model.evaluate(X_train,y_train)"
   ]
  },
  {
   "cell_type": "code",
   "execution_count": null,
   "metadata": {
    "_cell_guid": "52fa2016-9a9f-4079-84de-02e101c60a55",
    "_uuid": "19dfc08c-1bbe-4019-ad0b-501d05111bad",
    "jupyter": {
     "outputs_hidden": false
    }
   },
   "outputs": [],
   "source": []
  }
 ],
 "metadata": {
  "kernelspec": {
   "display_name": "Python 3",
   "language": "python",
   "name": "python3"
  },
  "language_info": {
   "codemirror_mode": {
    "name": "ipython",
    "version": 3
   },
   "file_extension": ".py",
   "mimetype": "text/x-python",
   "name": "python",
   "nbconvert_exporter": "python",
   "pygments_lexer": "ipython3",
   "version": "3.7.9"
  }
 },
 "nbformat": 4,
 "nbformat_minor": 4
}
